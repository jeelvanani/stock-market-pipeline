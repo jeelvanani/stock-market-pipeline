{
 "cells": [
  {
   "cell_type": "code",
   "execution_count": 0,
   "metadata": {
    "application/vnd.databricks.v1+cell": {
     "cellMetadata": {
      "byteLimit": 2048000,
      "rowLimit": 10000
     },
     "inputWidgets": {},
     "nuid": "51669e3e-96fc-4977-b12a-7c3bd6202f8f",
     "showTitle": false,
     "tableResultSettingsMap": {},
     "title": ""
    }
   },
   "outputs": [],
   "source": [
    "#databricks mounting configs\n",
    "storage_account_name = \"stockdatastoragejeel\"\n",
    "storage_account_key = \"OzKw7sqN5Vs71QUuCvYZBnvAlxQt2dFQzwYRxHBarSZL36DV5C+BY7BPgrZJVX5xVznANt8yFvxa+ASt1vwgRw==\"\n",
    "file_system_name = \"raw-stock-data\"\n",
    "mount_point = f\"/mnt/raw-stock-data\""
   ]
  },
  {
   "cell_type": "code",
   "execution_count": 0,
   "metadata": {
    "application/vnd.databricks.v1+cell": {
     "cellMetadata": {
      "byteLimit": 2048000,
      "rowLimit": 10000
     },
     "inputWidgets": {},
     "nuid": "966d93a1-327e-49ed-ad7e-f10c4633366c",
     "showTitle": false,
     "tableResultSettingsMap": {},
     "title": ""
    }
   },
   "outputs": [
    {
     "output_type": "stream",
     "name": "stdout",
     "output_type": "stream",
     "text": [
      "/mnt/raw-stock-data has been unmounted.\n"
     ]
    }
   ],
   "source": [
    "#unmount if already mounted \n",
    "if any(mount.mountPoint == mount_point for mount in dbutils.fs.mounts()):\n",
    "    dbutils.fs.unmount(mount_point)"
   ]
  },
  {
   "cell_type": "code",
   "execution_count": 0,
   "metadata": {
    "application/vnd.databricks.v1+cell": {
     "cellMetadata": {
      "byteLimit": 2048000,
      "rowLimit": 10000
     },
     "inputWidgets": {},
     "nuid": "219f9d61-62cc-4dc9-97a4-31f3660337d6",
     "showTitle": false,
     "tableResultSettingsMap": {},
     "title": ""
    }
   },
   "outputs": [
    {
     "output_type": "stream",
     "name": "stdout",
     "output_type": "stream",
     "text": [
      "Mounted /mnt/raw-stock-data at stockdatastoragejeel.\n"
     ]
    }
   ],
   "source": [
    "#mounting adls gen2 to dbfs\n",
    "dbutils.fs.mount(\n",
    "    source=f\"wasbs://raw-stock-data@stockdatastoragejeel.blob.core.windows.net/\",\n",
    "    mount_point = mount_point,\n",
    "    extra_configs= {f\"fs.azure.account.key.stockdatastoragejeel.blob.core.windows.net\": storage_account_key}\n",
    ")\n",
    "print(f\"Mounted {mount_point} at {storage_account_name}.\")"
   ]
  },
  {
   "cell_type": "code",
   "execution_count": 0,
   "metadata": {
    "application/vnd.databricks.v1+cell": {
     "cellMetadata": {},
     "inputWidgets": {},
     "nuid": "6efbe269-99a5-4a18-840c-b6b841f222df",
     "showTitle": false,
     "tableResultSettingsMap": {},
     "title": ""
    }
   },
   "outputs": [],
   "source": []
  }
 ],
 "metadata": {
  "application/vnd.databricks.v1+notebook": {
   "computePreferences": null,
   "dashboards": [],
   "environmentMetadata": {
    "base_environment": "",
    "environment_version": "2"
   },
   "language": "python",
   "notebookMetadata": {
    "pythonIndentUnit": 4
   },
   "notebookName": "mount-adls",
   "widgets": {}
  },
  "language_info": {
   "name": "python"
  }
 },
 "nbformat": 4,
 "nbformat_minor": 0
}